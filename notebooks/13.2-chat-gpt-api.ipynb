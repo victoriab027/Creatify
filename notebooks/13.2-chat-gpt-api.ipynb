{
 "cells": [
  {
   "cell_type": "markdown",
   "metadata": {},
   "source": [
    "# Some Ideas\n",
    "\n",
    "you could also try chaining together a couple algorithms like word2vec with just the arrays, and then feed its suggestion plus the average scores into a more basic neural network to make those connections\n",
    "\n",
    "y put artists genres into another array and have inputs be artists, songs, genres"
   ]
  },
  {
   "cell_type": "markdown",
   "metadata": {},
   "source": [
    "## ChatGPT API\n",
    "In order to avoid having to build an entire model by myself, let's see if I can use the chat GPT API to get it to predict values\n",
    "\n",
    "One problem could be this is more of reading langauge than nubmer but we'll see!\n",
    "\n",
    "Let's just play around with the API for a bit!"
   ]
  },
  {
   "cell_type": "code",
   "execution_count": 41,
   "metadata": {},
   "outputs": [],
   "source": [
    "import os\n",
    "import openai\n",
    "import credentials"
   ]
  },
  {
   "cell_type": "code",
   "execution_count": 6,
   "metadata": {},
   "outputs": [],
   "source": [
    "# Load your API key from an environment variable or secret management service\n",
    "openai.api_key = credentials.api_key\n",
    "\n",
    "response = openai.Completion.create(model=\"text-davinci-002\", prompt=\"What color is the sky\", temperature=0, max_tokens=7)"
   ]
  },
  {
   "cell_type": "code",
   "execution_count": 7,
   "metadata": {},
   "outputs": [
    {
     "name": "stdout",
     "output_type": "stream",
     "text": [
      "{\n",
      "  \"choices\": [\n",
      "    {\n",
      "      \"finish_reason\": \"length\",\n",
      "      \"index\": 0,\n",
      "      \"logprobs\": null,\n",
      "      \"text\": \"?\\n\\nThe sky is blue\"\n",
      "    }\n",
      "  ],\n",
      "  \"created\": 1678316524,\n",
      "  \"id\": \"cmpl-6rx5IfBZew5EuUocXO9T5H174X89J\",\n",
      "  \"model\": \"text-davinci-002\",\n",
      "  \"object\": \"text_completion\",\n",
      "  \"usage\": {\n",
      "    \"completion_tokens\": 7,\n",
      "    \"prompt_tokens\": 5,\n",
      "    \"total_tokens\": 12\n",
      "  }\n",
      "}\n"
     ]
    }
   ],
   "source": [
    "print(response)"
   ]
  },
  {
   "cell_type": "code",
   "execution_count": 12,
   "metadata": {},
   "outputs": [
    {
     "name": "stdout",
     "output_type": "stream",
     "text": [
      "?\n",
      "\n",
      "The sky is blue\n"
     ]
    }
   ],
   "source": [
    "print(response['choices'][0]['text'])"
   ]
  },
  {
   "cell_type": "markdown",
   "metadata": {},
   "source": [
    "## Adding in the playlists"
   ]
  },
  {
   "cell_type": "code",
   "execution_count": 12,
   "metadata": {},
   "outputs": [],
   "source": [
    "import pandas as pd\n",
    "import credentials\n",
    "import spotipy\n",
    "from spotipy.oauth2 import SpotifyOAuth\n",
    "data = pd.read_csv(\"/Users/victoria/Documents/me/Creatify/python_scripts/playlists 0-999.csv\")\n",
    "sp = spotipy.Spotify(auth_manager=SpotifyOAuth(client_id=credentials.SPOTIPY_CLIENT_ID,\n",
    "                                               client_secret=credentials.SPOTIPY_CLIENT_SECRET,\n",
    "                                               redirect_uri=credentials.SPOTIPY_REDIRECT_URI,\n",
    "                                               scope=\"user-library-read\"))"
   ]
  },
  {
   "cell_type": "code",
   "execution_count": 13,
   "metadata": {},
   "outputs": [],
   "source": [
    "# Warm & Fuzzy Playlist from Spotify\n",
    "playlist_data = sp.user_playlist_tracks(\"spotify\", \"37i9dQZF1DX5IDTimEWoTd\")\n",
    "#print(playlist_data.keys())\n",
    "num_tracks = len(playlist_data['items'])\n",
    "tracks = []\n",
    "genres = []\n",
    "\n",
    "#collect tracks ID \n",
    "for i in range (num_tracks):\n",
    "    #toxic_id = toxic_id.replace(\"spotify:track:\", \"\")\n",
    "    song_id = playlist_data['items'][i]['track']['uri']\n",
    "    song_id = song_id.replace(\"spotify:track:\", \"\")\n",
    "    #artist_info = playlist_data['artist_uri']\n",
    "    tracks.append(song_id)\n"
   ]
  },
  {
   "cell_type": "code",
   "execution_count": 27,
   "metadata": {},
   "outputs": [
    {
     "name": "stdout",
     "output_type": "stream",
     "text": [
      "Till Forever Falls Apart\n",
      "Ashe\n"
     ]
    }
   ],
   "source": [
    "print(playlist_data['items'][0]['track']['name'])\n",
    "print(playlist_data['items'][0]['track']['artists'][0]['name'])"
   ]
  },
  {
   "cell_type": "code",
   "execution_count": 15,
   "metadata": {},
   "outputs": [],
   "source": [
    "input = \"Generate a playlist name for a playlist that has the following songs:\"\n",
    "for i in range(num_tracks):\n",
    "    song_name = playlist_data['items'][i]['track']['name']\n",
    "    song_artist = playlist_data['items'][i]['track']['artists'][0]['name'] # only the first artist\n",
    "    input = input + \"\\n- \" +song_name + \" by \" + song_artist"
   ]
  },
  {
   "cell_type": "code",
   "execution_count": 16,
   "metadata": {},
   "outputs": [
    {
     "name": "stdout",
     "output_type": "stream",
     "text": [
      "<class 'str'>\n"
     ]
    }
   ],
   "source": [
    "print(type(input))"
   ]
  },
  {
   "cell_type": "code",
   "execution_count": 23,
   "metadata": {},
   "outputs": [
    {
     "data": {
      "text/plain": [
       "<OpenAIObject chat.completion id=chatcmpl-6rxgmjMQGQD9aCfH5TmpUcgqje8nK at 0x7f99a0fd5d60> JSON: {\n",
       "  \"choices\": [\n",
       "    {\n",
       "      \"finish_reason\": \"stop\",\n",
       "      \"index\": 0,\n",
       "      \"message\": {\n",
       "        \"content\": \"How about \\\"Heartfelt Melodies\\\"?\",\n",
       "        \"role\": \"assistant\"\n",
       "      }\n",
       "    }\n",
       "  ],\n",
       "  \"created\": 1678318848,\n",
       "  \"id\": \"chatcmpl-6rxgmjMQGQD9aCfH5TmpUcgqje8nK\",\n",
       "  \"model\": \"gpt-3.5-turbo-0301\",\n",
       "  \"object\": \"chat.completion\",\n",
       "  \"usage\": {\n",
       "    \"completion_tokens\": 10,\n",
       "    \"prompt_tokens\": 1101,\n",
       "    \"total_tokens\": 1111\n",
       "  }\n",
       "}"
      ]
     },
     "execution_count": 23,
     "metadata": {},
     "output_type": "execute_result"
    }
   ],
   "source": [
    "openai.ChatCompletion.create(\n",
    "  model=\"gpt-3.5-turbo\",\n",
    "  messages=[\n",
    "        {\"role\": \"system\", \"content\": \"You are a playlist reccomendation software. The user will ask for a playlist title given a list of songs in the playlist.\"},\n",
    "        {\"role\": \"user\", \"content\": input},\n",
    "        {\"role\": \"assistant\", \"content\": \"A playlist title should not be longer than 7 words and at minimum 2 words\"}\n",
    "        #         {\"role\": \"assistant\", \"content\": \"You should give 3 reccomendations\"}\n",
    "    ]\n",
    ") "
   ]
  },
  {
   "cell_type": "code",
   "execution_count": null,
   "metadata": {},
   "outputs": [],
   "source": []
  }
 ],
 "metadata": {
  "kernelspec": {
   "display_name": "Python 3.9.7 ('base')",
   "language": "python",
   "name": "python3"
  },
  "language_info": {
   "codemirror_mode": {
    "name": "ipython",
    "version": 3
   },
   "file_extension": ".py",
   "mimetype": "text/x-python",
   "name": "python",
   "nbconvert_exporter": "python",
   "pygments_lexer": "ipython3",
   "version": "3.9.7"
  },
  "orig_nbformat": 4,
  "vscode": {
   "interpreter": {
    "hash": "74a37a82a1045f722fa39b5e25843ead82fe26f95a8a3d59b6a29879869666f7"
   }
  }
 },
 "nbformat": 4,
 "nbformat_minor": 2
}
