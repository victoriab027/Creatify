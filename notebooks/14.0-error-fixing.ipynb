{
 "cells": [
  {
   "cell_type": "code",
   "execution_count": 1,
   "metadata": {},
   "outputs": [
    {
     "name": "stderr",
     "output_type": "stream",
     "text": [
      "/Users/victoria/miniconda3/lib/python3.9/site-packages/requests/__init__.py:102: RequestsDependencyWarning: urllib3 (1.26.7) or chardet (5.1.0)/charset_normalizer (2.0.7) doesn't match a supported version!\n",
      "  warnings.warn(\"urllib3 ({}) or chardet ({})/charset_normalizer ({}) doesn't match a supported \"\n"
     ]
    }
   ],
   "source": [
    "import spotipy\n",
    "from spotipy.oauth2 import SpotifyOAuth\n",
    "import pandas as pd\n",
    "import argparse\n",
    "import logging\n",
    "import spotipy\n",
    "import pandas as pd\n",
    "import numpy as np\n",
    "import requests\n",
    "from spotipy import oauth2\n",
    "import re\n",
    "\n",
    "import credentials\n"
   ]
  },
  {
   "cell_type": "code",
   "execution_count": 2,
   "metadata": {},
   "outputs": [
    {
     "name": "stdout",
     "output_type": "stream",
     "text": [
      "<spotipy.oauth2.SpotifyOAuth object at 0x7fd7c478e6d0>\n",
      "AQBpwQSfH-F9uaARDm5EYxzbo6AfTMWwBt2eHUF2fEC89l6i5Ou1_1UoSyi87tRpvj4GMmwFQqzdDA5inEWafMTCG6x8ORSl7HgJ1furE0CReVFj_VlpBbz49IQbQI4bx8ioXPU9ZeaRq2IjGHsZ9dVVp-XozHSvvLbgCj22IKsmzCKJuvgd7WqpXB6ycfetlZeBssp0POPK8i9EWfMGSfFqOiXxWHLO-UDI2dm5jiani15RHZtGDFaQfuhPeburfZNrxMm41wcXgwEhT9idhYrVGO1YuStOWfImEtk79dbJt2X5JIPD01DUHmYQOPP400xggOEZErFytTfM6PSrcnfL17uHr7Zk94rWR_ICefQZ2JWubRXkLA\n"
     ]
    },
    {
     "name": "stderr",
     "output_type": "stream",
     "text": [
      "/var/folders/pz/lc5f5cgd1m5_ghmjddlz8r600000gn/T/ipykernel_55160/598367840.py:8: DeprecationWarning: You're using 'as_dict = True'.get_access_token will return the token string directly in future versions. Please adjust your code accordingly, or use get_cached_token instead.\n",
      "  token = sp_oauth.get_access_token(code)\n"
     ]
    }
   ],
   "source": [
    "# Gain access to mainupation\n",
    "SCOPE = ('user-read-recently-played,user-library-read,playlist-modify-private,playlist-modify-public,user-modify-playback-state,user-read-playback-state')\n",
    "sp_oauth = oauth2.SpotifyOAuth(credentials.SPOTIPY_CLIENT_ID,credentials.SPOTIPY_CLIENT_SECRET, credentials.SPOTIPY_REDIRECT_URI ,scope=SCOPE )\n",
    "print(sp_oauth)\n",
    "#click \"Accept\" in your browser when the auth window pops up\n",
    "code = sp_oauth.get_auth_response(open_browser=True)\n",
    "print(code)\n",
    "token = sp_oauth.get_access_token(code)\n",
    "refresh_token = token['refresh_token']\n",
    "sp = spotipy.Spotify(auth=token['access_token'])\n",
    "username = sp.current_user()['id']"
   ]
  },
  {
   "cell_type": "code",
   "execution_count": 4,
   "metadata": {},
   "outputs": [],
   "source": [
    "#https://open.spotify.com/playlist/5VUcXnkEGvX3AqoVv3CaWL?si=403184c4ba43415e\n",
    "sp.playlist_change_details(\"5VUcXnkEGvX3AqoVv3CaWL\",name = \"new name!\")"
   ]
  },
  {
   "cell_type": "code",
   "execution_count": null,
   "metadata": {},
   "outputs": [],
   "source": []
  }
 ],
 "metadata": {
  "kernelspec": {
   "display_name": "Python 3.9.7 ('base')",
   "language": "python",
   "name": "python3"
  },
  "language_info": {
   "codemirror_mode": {
    "name": "ipython",
    "version": 3
   },
   "file_extension": ".py",
   "mimetype": "text/x-python",
   "name": "python",
   "nbconvert_exporter": "python",
   "pygments_lexer": "ipython3",
   "version": "3.9.7"
  },
  "orig_nbformat": 4,
  "vscode": {
   "interpreter": {
    "hash": "74a37a82a1045f722fa39b5e25843ead82fe26f95a8a3d59b6a29879869666f7"
   }
  }
 },
 "nbformat": 4,
 "nbformat_minor": 2
}
