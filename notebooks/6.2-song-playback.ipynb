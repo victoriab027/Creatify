{
 "cells": [
  {
   "cell_type": "markdown",
   "metadata": {},
   "source": [
    "## Goal:\n",
    "The goal of this script is to be able to gain the values of the higest and lowest of the metadata for a user to be able to play so that they can understand what the data means"
   ]
  },
  {
   "cell_type": "code",
   "execution_count": 5,
   "metadata": {},
   "outputs": [],
   "source": [
    "import spotipy\n",
    "from spotipy.oauth2 import SpotifyOAuth\n",
    "import pandas as pd\n",
    "import argparse\n",
    "import logging\n",
    "import spotipy\n",
    "import pandas as pd\n",
    "import numpy as np\n",
    "import requests\n",
    "from spotipy import oauth2\n",
    "import re\n",
    "\n",
    "import credentials"
   ]
  },
  {
   "cell_type": "code",
   "execution_count": 8,
   "metadata": {},
   "outputs": [
    {
     "name": "stderr",
     "output_type": "stream",
     "text": [
      "/var/folders/pz/lc5f5cgd1m5_ghmjddlz8r600000gn/T/ipykernel_80970/3544539949.py:7: DeprecationWarning: You're using 'as_dict = True'.get_access_token will return the token string directly in future versions. Please adjust your code accordingly, or use get_cached_token instead.\n",
      "  token = sp_oauth.get_access_token(code)\n"
     ]
    }
   ],
   "source": [
    "# Gain access to mainupation\n",
    "SCOPE = ('user-read-recently-played,user-top-read,user-library-read,user-read-currently-playing,playlist-read-private,playlist-modify-private,playlist-modify-public,user-read-email,user-modify-playback-state,user-read-private,user-read-playback-state')\n",
    "sp_oauth = oauth2.SpotifyOAuth(credentials.SPOTIPY_CLIENT_ID,credentials.SPOTIPY_CLIENT_SECRET, credentials.SPOTIPY_REDIRECT_URI ,scope=SCOPE )\n",
    "\n",
    "#click \"Accept\" in your browser when the auth window pops up\n",
    "code = sp_oauth.get_auth_response(open_browser=True)\n",
    "token = sp_oauth.get_access_token(code)\n",
    "refresh_token = token['refresh_token']\n",
    "sp = spotipy.Spotify(auth=token['access_token'])\n",
    "username = sp.current_user()['id']"
   ]
  },
  {
   "cell_type": "code",
   "execution_count": 25,
   "metadata": {},
   "outputs": [],
   "source": [
    "ranges = ['short_term', 'medium_term', 'long_term']\n",
    "\n",
    "top_tracks = []\n",
    "\n",
    "for sp_range in ranges:\n",
    "    results = sp.current_user_top_tracks(time_range=sp_range, limit=50)\n",
    "    for i in range(len(results)):\n",
    "        top_tracks.append(results['items'][i]['uri'])"
   ]
  },
  {
   "cell_type": "code",
   "execution_count": 26,
   "metadata": {},
   "outputs": [
    {
     "name": "stdout",
     "output_type": "stream",
     "text": [
      "21\n"
     ]
    }
   ],
   "source": [
    "print(len(top_tracks))"
   ]
  },
  {
   "cell_type": "code",
   "execution_count": 32,
   "metadata": {},
   "outputs": [],
   "source": [
    "# Get audio features\n",
    "audio_features = sp.audio_features(top_tracks)"
   ]
  },
  {
   "cell_type": "code",
   "execution_count": 33,
   "metadata": {},
   "outputs": [],
   "source": [
    "df = pd.DataFrame(audio_features)"
   ]
  },
  {
   "cell_type": "code",
   "execution_count": 35,
   "metadata": {},
   "outputs": [],
   "source": [
    "# get index of row with largest danceabilty value\n",
    "idx = df['danceability'].idxmax()\n",
    "uri = df.loc[idx, 'uri']"
   ]
  },
  {
   "cell_type": "code",
   "execution_count": 38,
   "metadata": {},
   "outputs": [],
   "source": [
    "uri = df.loc[df['danceability'].idxmax(), 'uri']"
   ]
  },
  {
   "cell_type": "code",
   "execution_count": 39,
   "metadata": {},
   "outputs": [
    {
     "name": "stdout",
     "output_type": "stream",
     "text": [
      "spotify:track:3hX0cncUUZ3A6cx9w1dW4w\n"
     ]
    }
   ],
   "source": [
    "print(uri)"
   ]
  },
  {
   "cell_type": "code",
   "execution_count": 41,
   "metadata": {},
   "outputs": [],
   "source": [
    "songs = {'danceability': [df.loc[df['danceability'].idxmax(), 'uri'], df.loc[df['danceability'].idxmin(), 'uri']], \n",
    "        'energy': [df.loc[df['energy'].idxmax(), 'uri'], df.loc[df['energy'].idxmin(), 'uri']], \n",
    "         'valence': [df.loc[df['valence'].idxmax(), 'uri'], df.loc[df['valence'].idxmin(), 'uri']],\n",
    "         'instrumentalness': [df.loc[df['instrumentalness'].idxmax(), 'uri'], df.loc[df['instrumentalness'].idxmin(), 'uri']],\n",
    "         'tempo': [df.loc[df['tempo'].idxmax(), 'uri'], df.loc[df['tempo'].idxmin(), 'uri']]}"
   ]
  },
  {
   "cell_type": "code",
   "execution_count": 42,
   "metadata": {},
   "outputs": [],
   "source": [
    "def get_top_features(sp):\n",
    "    ranges = ['short_term', 'medium_term', 'long_term']\n",
    "\n",
    "    top_tracks = []\n",
    "\n",
    "    for sp_range in ranges:\n",
    "        results = sp.current_user_top_tracks(time_range=sp_range, limit=50)\n",
    "        for i in range(len(results)):\n",
    "            top_tracks.append(results['items'][i]['uri'])\n",
    "    audio_features = sp.audio_features(top_tracks)\n",
    "    df = pd.DataFrame(audio_features)\n",
    "    songs = {'danceability': [df.loc[df['danceability'].idxmax(), 'uri'], df.loc[df['danceability'].idxmin(), 'uri']], \n",
    "        'energy': [df.loc[df['energy'].idxmax(), 'uri'], df.loc[df['energy'].idxmin(), 'uri']], \n",
    "         'valence': [df.loc[df['valence'].idxmax(), 'uri'], df.loc[df['valence'].idxmin(), 'uri']],\n",
    "         'instrumentalness': [df.loc[df['instrumentalness'].idxmax(), 'uri'], df.loc[df['instrumentalness'].idxmin(), 'uri']],\n",
    "         'tempo': [df.loc[df['tempo'].idxmax(), 'uri'], df.loc[df['tempo'].idxmin(), 'uri']]}\n",
    "    return songs"
   ]
  },
  {
   "cell_type": "code",
   "execution_count": null,
   "metadata": {},
   "outputs": [],
   "source": []
  }
 ],
 "metadata": {
  "kernelspec": {
   "display_name": "Python 3.9.7 ('base')",
   "language": "python",
   "name": "python3"
  },
  "language_info": {
   "codemirror_mode": {
    "name": "ipython",
    "version": 3
   },
   "file_extension": ".py",
   "mimetype": "text/x-python",
   "name": "python",
   "nbconvert_exporter": "python",
   "pygments_lexer": "ipython3",
   "version": "3.9.7"
  },
  "orig_nbformat": 4,
  "vscode": {
   "interpreter": {
    "hash": "74a37a82a1045f722fa39b5e25843ead82fe26f95a8a3d59b6a29879869666f7"
   }
  }
 },
 "nbformat": 4,
 "nbformat_minor": 2
}
