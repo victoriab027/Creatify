{
 "cells": [
  {
   "cell_type": "markdown",
   "metadata": {},
   "source": [
    "# Combining Everything\n",
    "Let's put everything together! Generate a playlist, get the songs in it, and give it a name! \n",
    "\n",
    "Note: we should do this all in functions for Django"
   ]
  },
  {
   "cell_type": "code",
   "execution_count": 1,
   "metadata": {},
   "outputs": [],
   "source": [
    "import spotipy\n",
    "from spotipy.oauth2 import SpotifyOAuth\n",
    "import pandas as pd\n",
    "import argparse\n",
    "import logging\n",
    "import spotipy\n",
    "import pandas as pd\n",
    "import numpy as np\n",
    "import requests\n",
    "from spotipy import oauth2\n",
    "import re\n",
    "import os\n",
    "import openai\n",
    "import credentials"
   ]
  },
  {
   "cell_type": "code",
   "execution_count": 2,
   "metadata": {},
   "outputs": [],
   "source": [
    "# Gain access to mainupation\n",
    "# This will probably be gained on the intro page\n",
    "def get_logged_in():\n",
    "    SCOPE = ('user-library-read,user-read-currently-playing,playlist-read-private,playlist-modify-private,playlist-modify-public,user-modify-playback-state,user-read-private,user-read-playback-state')\n",
    "    sp_oauth = oauth2.SpotifyOAuth(credentials.SPOTIPY_CLIENT_ID,credentials.SPOTIPY_CLIENT_SECRET, credentials.SPOTIPY_REDIRECT_URI ,scope=SCOPE )\n",
    "\n",
    "    #click \"Accept\" in your browser when the auth window pops up\n",
    "    code = sp_oauth.get_auth_response(open_browser=True)\n",
    "    token = sp_oauth.get_access_token(code)\n",
    "    refresh_token = token['refresh_token']\n",
    "    sp = spotipy.Spotify(auth=token['access_token'])\n",
    "    return sp"
   ]
  },
  {
   "cell_type": "code",
   "execution_count": 3,
   "metadata": {},
   "outputs": [],
   "source": [
    "def find_and_filter(settings, genres_list, sp):\n",
    "    #FINDING\n",
    "    results = sp.recommendations(seed_genres=genres_list, limit=100)\n",
    "    song_features_list = [\"artist\",\"album\",\"track_name\",  \"track_id\",\"danceability\",\"energy\",\"key\",\"loudness\",\"mode\", \"speechiness\",\"instrumentalness\",\"liveness\",\"valence\",\"tempo\", \"duration_ms\",\"time_signature\"]\n",
    "    song_df = pd.DataFrame(columns = song_features_list)\n",
    "    tracks = results[\"tracks\"]\n",
    "\n",
    "    for track in tracks:\n",
    "        # Create empty dict\n",
    "        playlist_features = {}\n",
    "        playlist_features[\"artist\"] = track[\"album\"][\"artists\"][0][\"name\"]\n",
    "        playlist_features[\"album\"] = track[\"album\"][\"name\"]\n",
    "        playlist_features[\"track_name\"] = track[\"name\"]\n",
    "        playlist_features[\"track_id\"] = track[\"id\"]\n",
    "        \n",
    "        # Get audio features\n",
    "        audio_features = sp.audio_features(playlist_features[\"track_id\"])[0]\n",
    "        for feature in song_features_list[4:]:\n",
    "            playlist_features[feature] = audio_features[feature]\n",
    "        \n",
    "        # Concat the dfs\n",
    "        track_df = pd.DataFrame(playlist_features, index = [0])\n",
    "        song_df = pd.concat([song_df, track_df], ignore_index = True)\n",
    "    \n",
    "    #FILTERING\n",
    "    for index, setting in settings.iterrows():\n",
    "        if setting[\"On\"]:\n",
    "            if setting[\"Level\"] > 0:\n",
    "                song_df = song_df[(song_df[setting[\"Name\"]] >= song_df[setting[\"Name\"]].mean())]\n",
    "            elif setting[\"Level\"] < 0:\n",
    "                song_df = song_df[(song_df[setting[\"Name\"]] <= song_df[setting[\"Name\"]].mean())]\n",
    "            else: #medium\n",
    "                var = song_df[setting[\"Name\"]].var()\n",
    "                song_df = song_df[(song_df[setting[\"Name\"]] >= song_df[setting[\"Name\"]].mean()-2*var) & (song_df[setting[\"Name\"]] <= song_df[setting[\"Name\"]].mean()+2*var)]\n",
    "    return song_df"
   ]
  },
  {
   "cell_type": "code",
   "execution_count": 4,
   "metadata": {},
   "outputs": [],
   "source": [
    "def gather_songs(sp, generes_list, settings_df, goal):\n",
    "    final_df = find_and_filter(settings_df,generes_list,sp)\n",
    "    while (len(final_df) < goal):\n",
    "        getter = find_and_filter(settings_df,generes_list,sp)\n",
    "        final_df = pd.concat([final_df, getter], ignore_index = True)\n",
    "    return final_df\n"
   ]
  },
  {
   "cell_type": "code",
   "execution_count": 10,
   "metadata": {},
   "outputs": [],
   "source": [
    "def generate_playlist(sp,generes_list,settings_df, goal):\n",
    "    songs = gather_songs(sp,generes_list,settings_df, goal)\n",
    "    input = \"The playlist has the following songs:\"\n",
    "    i = 0\n",
    "    while i < len(songs) and i < 20:\n",
    "        song_name = songs['track_name'][i]\n",
    "        song_artist = songs['artist'][i] # only the first artist\n",
    "        input = input + \"\\n- \" +song_name + \" by \" + song_artist\n",
    "        i = i + 1\n",
    "    openai.api_key = credentials.api_key\n",
    "    output = openai.ChatCompletion.create(\n",
    "        model=\"gpt-3.5-turbo\",\n",
    "        messages=[\n",
    "                {\"role\": \"system\", \"content\": \"You are a playlist reccomendation software. The user will ask for a playlist title given a list of songs in the playlist.\"},\n",
    "                {\"role\": \"user\", \"content\": input},\n",
    "                {\"role\": \"assistant\", \"content\": \"A playlist title should not be longer than 7 words and at minimum 2 words\"},\n",
    "                {\"role\": \"assistant\", \"content\": \"Give more than 3 suggestions and less than 8\"},\n",
    "                {\"role\": \"assistant\", \"content\": \"Structure your format in the output. ' here are three suggestions for playlist titles based on the songs you provided:\\n1.Reccomendation\\n2.Reccomendation\\n3.Reccomendation\\n4.Reccomendation\\n5.Reccomendation, and so on'\"}\n",
    "            ]\n",
    "        ) \n",
    "    reccomendation = output['choices'][0]['message']['content']\n",
    "    print(reccomendation)\n",
    "    #print('reccc',reccomendation)\n",
    "    bullet_points = reccomendation.split('\\n\\n')[0].split('\\n')[0:]\n",
    "    playlist_titles = [point[2:] for point in bullet_points]\n",
    "    playlist_titles = playlist_titles[1:]\n",
    "    print(playlist_titles)\n",
    "    best_title = playlist_titles[0]\n",
    "\n",
    "    username = sp.current_user()['id']\n",
    "    result = sp.user_playlist_create(username, name=best_title, description=\"A personalized discovery playlist created with Creatify\")\n",
    "    playlist_id = result['id']\n",
    "\n",
    "    logger = logging.getLogger('examples.add_tracks_to_playlist')\n",
    "    logging.basicConfig(level='DEBUG')\n",
    "    scope = 'playlist-modify-public'\n",
    "\n",
    "    tracks = songs[\"track_id\"]\n",
    "\n",
    "    sp.user_playlist_add_tracks(username, playlist_id=playlist_id, tracks=tracks)\n",
    "\n",
    "    return playlist_titles, playlist_id"
   ]
  },
  {
   "cell_type": "code",
   "execution_count": 11,
   "metadata": {},
   "outputs": [
    {
     "name": "stderr",
     "output_type": "stream",
     "text": [
      "/var/folders/pz/lc5f5cgd1m5_ghmjddlz8r600000gn/T/ipykernel_49001/904931709.py:9: DeprecationWarning: You're using 'as_dict = True'.get_access_token will return the token string directly in future versions. Please adjust your code accordingly, or use get_cached_token instead.\n",
      "  token = sp_oauth.get_access_token(code)\n"
     ]
    },
    {
     "name": "stdout",
     "output_type": "stream",
     "text": [
      "Based on the songs in your playlist, here are a few playlist title suggestions:\n",
      "1. Dance Pop Hits\n",
      "2. Alternative Fireworks\n",
      "3. Retro Electro Vibes\n",
      "4. Saturday Night Jam\n",
      "5. Indie Dance Party\n",
      "6. Variety Mix Tape\n",
      "7. Electronic Rhythms\n",
      "8. Poolside Anthems\n",
      "9. 80s Era Love\n",
      "10. Electric Pop Soundtrack\n"
     ]
    },
    {
     "ename": "IndexError",
     "evalue": "list index out of range",
     "output_type": "error",
     "traceback": [
      "\u001b[0;31m---------------------------------------------------------------------------\u001b[0m",
      "\u001b[0;31mIndexError\u001b[0m                                Traceback (most recent call last)",
      "Cell \u001b[0;32mIn[11], line 10\u001b[0m\n\u001b[1;32m      8\u001b[0m generes_list \u001b[38;5;241m=\u001b[39m [\u001b[38;5;124m'\u001b[39m\u001b[38;5;124mindie\u001b[39m\u001b[38;5;124m'\u001b[39m, \u001b[38;5;124m'\u001b[39m\u001b[38;5;124mindie-Pop\u001b[39m\u001b[38;5;124m'\u001b[39m, \u001b[38;5;124m'\u001b[39m\u001b[38;5;124mpop\u001b[39m\u001b[38;5;124m'\u001b[39m]\n\u001b[1;32m      9\u001b[0m sp \u001b[38;5;241m=\u001b[39m get_logged_in()\n\u001b[0;32m---> 10\u001b[0m titles, i \u001b[38;5;241m=\u001b[39m \u001b[43mgenerate_playlist\u001b[49m\u001b[43m(\u001b[49m\u001b[43msp\u001b[49m\u001b[43m,\u001b[49m\u001b[43mgeneres_list\u001b[49m\u001b[43m,\u001b[49m\u001b[43msettings_df\u001b[49m\u001b[43m,\u001b[49m\u001b[43m \u001b[49m\u001b[43mgoal\u001b[49m\u001b[43m)\u001b[49m\n",
      "Cell \u001b[0;32mIn[10], line 22\u001b[0m, in \u001b[0;36mgenerate_playlist\u001b[0;34m(sp, generes_list, settings_df, goal)\u001b[0m\n\u001b[1;32m     20\u001b[0m reccomendation \u001b[38;5;241m=\u001b[39m output[\u001b[38;5;124m'\u001b[39m\u001b[38;5;124mchoices\u001b[39m\u001b[38;5;124m'\u001b[39m][\u001b[38;5;241m0\u001b[39m][\u001b[38;5;124m'\u001b[39m\u001b[38;5;124mmessage\u001b[39m\u001b[38;5;124m'\u001b[39m][\u001b[38;5;124m'\u001b[39m\u001b[38;5;124mcontent\u001b[39m\u001b[38;5;124m'\u001b[39m]\n\u001b[1;32m     21\u001b[0m \u001b[38;5;28mprint\u001b[39m(reccomendation)\n\u001b[0;32m---> 22\u001b[0m bullet_points \u001b[38;5;241m=\u001b[39m \u001b[43mreccomendation\u001b[49m\u001b[38;5;241;43m.\u001b[39;49m\u001b[43msplit\u001b[49m\u001b[43m(\u001b[49m\u001b[38;5;124;43m'\u001b[39;49m\u001b[38;5;130;43;01m\\n\u001b[39;49;00m\u001b[38;5;130;43;01m\\n\u001b[39;49;00m\u001b[38;5;124;43m'\u001b[39;49m\u001b[43m)\u001b[49m\u001b[43m[\u001b[49m\u001b[38;5;241;43m1\u001b[39;49m\u001b[43m]\u001b[49m\u001b[38;5;241m.\u001b[39msplit(\u001b[38;5;124m'\u001b[39m\u001b[38;5;130;01m\\n\u001b[39;00m\u001b[38;5;124m'\u001b[39m)[\u001b[38;5;241m0\u001b[39m:]\n\u001b[1;32m     23\u001b[0m playlist_titles \u001b[38;5;241m=\u001b[39m [point[\u001b[38;5;241m2\u001b[39m:] \u001b[38;5;28;01mfor\u001b[39;00m point \u001b[38;5;129;01min\u001b[39;00m bullet_points]\n\u001b[1;32m     24\u001b[0m best_title \u001b[38;5;241m=\u001b[39m playlist_titles[\u001b[38;5;241m0\u001b[39m]\n",
      "\u001b[0;31mIndexError\u001b[0m: list index out of range"
     ]
    }
   ],
   "source": [
    "# VARIABLES TO CHANGE\n",
    "#settings tester\n",
    "settings = [{'Name': 'danceability', 'On': True, 'Level': 71}, {'Name': 'energy', 'On': True, 'Level': 69}, {'Name': 'valence', 'On': True, 'Level': 65}, {'Name': 'instrumentalness', 'On': False, 'Level': 0}, {'Name': 'tempo', 'On': False, 'Level': 0}]\n",
    "\n",
    "settings_df = pd.DataFrame(settings)\n",
    "\n",
    "goal = 20\n",
    "generes_list = ['indie', 'indie-Pop', 'pop']\n",
    "sp = get_logged_in()\n",
    "titles, i = generate_playlist(sp,generes_list,settings_df, goal)"
   ]
  },
  {
   "cell_type": "code",
   "execution_count": null,
   "metadata": {},
   "outputs": [],
   "source": []
  }
 ],
 "metadata": {
  "kernelspec": {
   "display_name": "Python 3.10.9 ('base')",
   "language": "python",
   "name": "python3"
  },
  "language_info": {
   "codemirror_mode": {
    "name": "ipython",
    "version": 3
   },
   "file_extension": ".py",
   "mimetype": "text/x-python",
   "name": "python",
   "nbconvert_exporter": "python",
   "pygments_lexer": "ipython3",
   "version": "3.10.9"
  },
  "orig_nbformat": 4,
  "vscode": {
   "interpreter": {
    "hash": "634e6a8ceea6341882dc620c51101aad83b46ef46e858e3fa8c5406bdfcf8b2b"
   }
  }
 },
 "nbformat": 4,
 "nbformat_minor": 2
}
